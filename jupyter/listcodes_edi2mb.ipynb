{
 "cells": [
  {
   "cell_type": "markdown",
   "id": "adjustable-wound",
   "metadata": {},
   "source": [
    "# Datasets Site info - from EDI to jrn_metabase\n",
    "\n",
    "Code for populating the DataSetSites table in jrn_metabase is below. The EDI Solr search\n",
    "API is a little wonky in that when site data, including geographic descriptions and \n",
    "coordinates queries, are requested the response doesn't contain everything in the EML.\n",
    "Requesting geographic description will only return the geographicDescription element from the _first_ geographicCoverage found even if there are multiple geographicCoverages. If requesting coordinates, all boundingCoordinates elements found within the coverage element are returned. So, it makes sense to just count the spatial elements returned per datasetID."
   ]
  },
  {
   "cell_type": "code",
   "execution_count": 48,
   "id": "fourth-polyester",
   "metadata": {},
   "outputs": [],
   "source": [
    "import sys\n",
    "sys.path.append('/home/greg/GitHub/')\n",
    "import pyEDIutils.search as edi\n",
    "import pandas as pd\n",
    "import numpy as np\n",
    "\n",
    "# Establish database connection\n",
    "sys.path.append('../')\n",
    "import py2pg.connect as connect\n",
    "conn = connect.connect('../jrn_metabase_dev.conn.json')"
   ]
  },
  {
   "cell_type": "markdown",
   "id": "imported-medicaid",
   "metadata": {},
   "source": [
    "## Load DataSetAttributeEnumeration"
   ]
  },
  {
   "cell_type": "code",
   "execution_count": 49,
   "id": "ranging-valuable",
   "metadata": {},
   "outputs": [],
   "source": [
    "# Do a query of the database for the table\n",
    "sql = 'select * from lter_metabase.\"DataSetAttributeEnumeration\";'\n",
    "dat = pd.read_sql_query(sql, conn)"
   ]
  },
  {
   "cell_type": "code",
   "execution_count": 50,
   "id": "industrial-ribbon",
   "metadata": {},
   "outputs": [
    {
     "data": {
      "text/html": [
       "<div>\n",
       "<style scoped>\n",
       "    .dataframe tbody tr th:only-of-type {\n",
       "        vertical-align: middle;\n",
       "    }\n",
       "\n",
       "    .dataframe tbody tr th {\n",
       "        vertical-align: top;\n",
       "    }\n",
       "\n",
       "    .dataframe thead th {\n",
       "        text-align: right;\n",
       "    }\n",
       "</style>\n",
       "<table border=\"1\" class=\"dataframe\">\n",
       "  <thead>\n",
       "    <tr style=\"text-align: right;\">\n",
       "      <th></th>\n",
       "      <th>DataSetID</th>\n",
       "      <th>EntitySortOrder</th>\n",
       "      <th>ColumnName</th>\n",
       "      <th>Code</th>\n",
       "      <th>Definition</th>\n",
       "      <th>CodeID</th>\n",
       "    </tr>\n",
       "  </thead>\n",
       "  <tbody>\n",
       "    <tr>\n",
       "      <th>0</th>\n",
       "      <td>210001001</td>\n",
       "      <td>1</td>\n",
       "      <td>zone</td>\n",
       "      <td>G</td>\n",
       "      <td>Grassland vegetation type</td>\n",
       "      <td>vegtype_Grassland</td>\n",
       "    </tr>\n",
       "    <tr>\n",
       "      <th>1</th>\n",
       "      <td>210308004</td>\n",
       "      <td>1</td>\n",
       "      <td>qwt</td>\n",
       "      <td>SC</td>\n",
       "      <td>Other - SEE COMMENTS</td>\n",
       "      <td>BSNE_qwt_SC</td>\n",
       "    </tr>\n",
       "    <tr>\n",
       "      <th>2</th>\n",
       "      <td>210278001</td>\n",
       "      <td>1</td>\n",
       "      <td>water_07_08_trt</td>\n",
       "      <td>1.8</td>\n",
       "      <td>180% ambient precipitation (achieved with supp...</td>\n",
       "      <td>gcPPT_trt_1.8</td>\n",
       "    </tr>\n",
       "    <tr>\n",
       "      <th>3</th>\n",
       "      <td>210278002</td>\n",
       "      <td>1</td>\n",
       "      <td>PPT_trt</td>\n",
       "      <td>0.2</td>\n",
       "      <td>20% ambient precipitation (achieved with raino...</td>\n",
       "      <td>gcPPT_trt_0.2</td>\n",
       "    </tr>\n",
       "    <tr>\n",
       "      <th>4</th>\n",
       "      <td>210278002</td>\n",
       "      <td>1</td>\n",
       "      <td>PPT_trt</td>\n",
       "      <td>1.8</td>\n",
       "      <td>180% ambient precipitation (achieved with supp...</td>\n",
       "      <td>gcPPT_trt_1.8</td>\n",
       "    </tr>\n",
       "  </tbody>\n",
       "</table>\n",
       "</div>"
      ],
      "text/plain": [
       "   DataSetID  EntitySortOrder       ColumnName Code  \\\n",
       "0  210001001                1             zone    G   \n",
       "1  210308004                1              qwt   SC   \n",
       "2  210278001                1  water_07_08_trt  1.8   \n",
       "3  210278002                1          PPT_trt  0.2   \n",
       "4  210278002                1          PPT_trt  1.8   \n",
       "\n",
       "                                          Definition             CodeID  \n",
       "0                          Grassland vegetation type  vegtype_Grassland  \n",
       "1                               Other - SEE COMMENTS        BSNE_qwt_SC  \n",
       "2  180% ambient precipitation (achieved with supp...      gcPPT_trt_1.8  \n",
       "3  20% ambient precipitation (achieved with raino...      gcPPT_trt_0.2  \n",
       "4  180% ambient precipitation (achieved with supp...      gcPPT_trt_1.8  "
      ]
     },
     "execution_count": 50,
     "metadata": {},
     "output_type": "execute_result"
    }
   ],
   "source": [
    "dat.head()"
   ]
  },
  {
   "cell_type": "code",
   "execution_count": 51,
   "id": "entitled-brief",
   "metadata": {},
   "outputs": [],
   "source": [
    "dat2 = dat.loc[:,['Code', 'Definition', 'CodeID']]"
   ]
  },
  {
   "cell_type": "code",
   "execution_count": 52,
   "id": "interior-andrew",
   "metadata": {},
   "outputs": [
    {
     "name": "stdout",
     "output_type": "stream",
     "text": [
      "502\n"
     ]
    },
    {
     "data": {
      "text/html": [
       "<div>\n",
       "<style scoped>\n",
       "    .dataframe tbody tr th:only-of-type {\n",
       "        vertical-align: middle;\n",
       "    }\n",
       "\n",
       "    .dataframe tbody tr th {\n",
       "        vertical-align: top;\n",
       "    }\n",
       "\n",
       "    .dataframe thead th {\n",
       "        text-align: right;\n",
       "    }\n",
       "</style>\n",
       "<table border=\"1\" class=\"dataframe\">\n",
       "  <thead>\n",
       "    <tr style=\"text-align: right;\">\n",
       "      <th></th>\n",
       "      <th>Code</th>\n",
       "      <th>Definition</th>\n",
       "      <th>CodeID</th>\n",
       "    </tr>\n",
       "  </thead>\n",
       "  <tbody>\n",
       "    <tr>\n",
       "      <th>0</th>\n",
       "      <td>G</td>\n",
       "      <td>Grassland vegetation type</td>\n",
       "      <td>vegtype_Grassland</td>\n",
       "    </tr>\n",
       "    <tr>\n",
       "      <th>1</th>\n",
       "      <td>SC</td>\n",
       "      <td>Other - SEE COMMENTS</td>\n",
       "      <td>BSNE_qwt_SC</td>\n",
       "    </tr>\n",
       "    <tr>\n",
       "      <th>2</th>\n",
       "      <td>1.8</td>\n",
       "      <td>180% ambient precipitation (achieved with supp...</td>\n",
       "      <td>gcPPT_trt_1.8</td>\n",
       "    </tr>\n",
       "    <tr>\n",
       "      <th>3</th>\n",
       "      <td>0.2</td>\n",
       "      <td>20% ambient precipitation (achieved with raino...</td>\n",
       "      <td>gcPPT_trt_0.2</td>\n",
       "    </tr>\n",
       "    <tr>\n",
       "      <th>5</th>\n",
       "      <td>0.5</td>\n",
       "      <td>50% ambient precipitation (achieved with raino...</td>\n",
       "      <td>gcPPT_trt_0.5</td>\n",
       "    </tr>\n",
       "  </tbody>\n",
       "</table>\n",
       "</div>"
      ],
      "text/plain": [
       "  Code                                         Definition             CodeID\n",
       "0    G                          Grassland vegetation type  vegtype_Grassland\n",
       "1   SC                               Other - SEE COMMENTS        BSNE_qwt_SC\n",
       "2  1.8  180% ambient precipitation (achieved with supp...      gcPPT_trt_1.8\n",
       "3  0.2  20% ambient precipitation (achieved with raino...      gcPPT_trt_0.2\n",
       "5  0.5  50% ambient precipitation (achieved with raino...      gcPPT_trt_0.5"
      ]
     },
     "execution_count": 52,
     "metadata": {},
     "output_type": "execute_result"
    }
   ],
   "source": [
    "# Get and count unique rows\n",
    "lc = dat2.drop_duplicates()\n",
    "print(len(lc))\n",
    "lc.head()"
   ]
  },
  {
   "cell_type": "code",
   "execution_count": 53,
   "id": "through-conservation",
   "metadata": {},
   "outputs": [
    {
     "data": {
      "text/plain": [
       "502"
      ]
     },
     "execution_count": 53,
     "metadata": {},
     "output_type": "execute_result"
    }
   ],
   "source": [
    "# Number of unique codes - ~9 are repeated\n",
    "len(lc.CodeID.unique())"
   ]
  },
  {
   "cell_type": "code",
   "execution_count": 54,
   "id": "italic-wedding",
   "metadata": {},
   "outputs": [
    {
     "data": {
      "text/html": [
       "<div>\n",
       "<style scoped>\n",
       "    .dataframe tbody tr th:only-of-type {\n",
       "        vertical-align: middle;\n",
       "    }\n",
       "\n",
       "    .dataframe tbody tr th {\n",
       "        vertical-align: top;\n",
       "    }\n",
       "\n",
       "    .dataframe thead th {\n",
       "        text-align: right;\n",
       "    }\n",
       "</style>\n",
       "<table border=\"1\" class=\"dataframe\">\n",
       "  <thead>\n",
       "    <tr style=\"text-align: right;\">\n",
       "      <th></th>\n",
       "      <th>Code</th>\n",
       "      <th>Definition</th>\n",
       "      <th>CodeID</th>\n",
       "    </tr>\n",
       "  </thead>\n",
       "  <tbody>\n",
       "  </tbody>\n",
       "</table>\n",
       "</div>"
      ],
      "text/plain": [
       "Empty DataFrame\n",
       "Columns: [Code, Definition, CodeID]\n",
       "Index: []"
      ]
     },
     "execution_count": 54,
     "metadata": {},
     "output_type": "execute_result"
    }
   ],
   "source": [
    "# Code + Definition is a unique constraint - look for dups\n",
    "dups=lc.duplicated(subset=['Code', 'Definition'])\n",
    "lc[dups]"
   ]
  },
  {
   "cell_type": "markdown",
   "id": "informed-armstrong",
   "metadata": {},
   "source": [
    "## Prepare table for metabase"
   ]
  },
  {
   "cell_type": "code",
   "execution_count": 56,
   "id": "necessary-charleston",
   "metadata": {},
   "outputs": [
    {
     "name": "stderr",
     "output_type": "stream",
     "text": [
      "/home/greg/miniconda3/lib/python3.7/site-packages/pandas/core/frame.py:4446: SettingWithCopyWarning: \n",
      "A value is trying to be set on a copy of a slice from a DataFrame\n",
      "\n",
      "See the caveats in the documentation: https://pandas.pydata.org/pandas-docs/stable/user_guide/indexing.html#returning-a-view-versus-a-copy\n",
      "  errors=errors,\n"
     ]
    },
    {
     "data": {
      "text/html": [
       "<div>\n",
       "<style scoped>\n",
       "    .dataframe tbody tr th:only-of-type {\n",
       "        vertical-align: middle;\n",
       "    }\n",
       "\n",
       "    .dataframe tbody tr th {\n",
       "        vertical-align: top;\n",
       "    }\n",
       "\n",
       "    .dataframe thead th {\n",
       "        text-align: right;\n",
       "    }\n",
       "</style>\n",
       "<table border=\"1\" class=\"dataframe\">\n",
       "  <thead>\n",
       "    <tr style=\"text-align: right;\">\n",
       "      <th></th>\n",
       "      <th>CodeID</th>\n",
       "      <th>Code</th>\n",
       "      <th>CodeExplanation</th>\n",
       "    </tr>\n",
       "  </thead>\n",
       "  <tbody>\n",
       "    <tr>\n",
       "      <th>0</th>\n",
       "      <td>vegtype_Grassland</td>\n",
       "      <td>G</td>\n",
       "      <td>Grassland vegetation type</td>\n",
       "    </tr>\n",
       "    <tr>\n",
       "      <th>1</th>\n",
       "      <td>BSNE_qwt_SC</td>\n",
       "      <td>SC</td>\n",
       "      <td>Other - SEE COMMENTS</td>\n",
       "    </tr>\n",
       "    <tr>\n",
       "      <th>2</th>\n",
       "      <td>gcPPT_trt_1.8</td>\n",
       "      <td>1.8</td>\n",
       "      <td>180% ambient precipitation (achieved with supp...</td>\n",
       "    </tr>\n",
       "    <tr>\n",
       "      <th>3</th>\n",
       "      <td>gcPPT_trt_0.2</td>\n",
       "      <td>0.2</td>\n",
       "      <td>20% ambient precipitation (achieved with raino...</td>\n",
       "    </tr>\n",
       "    <tr>\n",
       "      <th>5</th>\n",
       "      <td>gcPPT_trt_0.5</td>\n",
       "      <td>0.5</td>\n",
       "      <td>50% ambient precipitation (achieved with raino...</td>\n",
       "    </tr>\n",
       "  </tbody>\n",
       "</table>\n",
       "</div>"
      ],
      "text/plain": [
       "              CodeID Code                                    CodeExplanation\n",
       "0  vegtype_Grassland    G                          Grassland vegetation type\n",
       "1        BSNE_qwt_SC   SC                               Other - SEE COMMENTS\n",
       "2      gcPPT_trt_1.8  1.8  180% ambient precipitation (achieved with supp...\n",
       "3      gcPPT_trt_0.2  0.2  20% ambient precipitation (achieved with raino...\n",
       "5      gcPPT_trt_0.5  0.5  50% ambient precipitation (achieved with raino..."
      ]
     },
     "execution_count": 56,
     "metadata": {},
     "output_type": "execute_result"
    }
   ],
   "source": [
    "# Format the dataframe to look like the DataSetSites table in jrn_metabase\n",
    "lc.rename(columns = {'Definition':'CodeExplanation'}, inplace = True)\n",
    "df_in = lc.loc[:,['CodeID','Code','CodeExplanation']]\n",
    "df_in.head()"
   ]
  },
  {
   "cell_type": "code",
   "execution_count": 57,
   "id": "hidden-virtue",
   "metadata": {},
   "outputs": [
    {
     "name": "stdout",
     "output_type": "stream",
     "text": [
      "502\n",
      "2\n"
     ]
    },
    {
     "data": {
      "text/plain": [
       "500"
      ]
     },
     "execution_count": 57,
     "metadata": {},
     "output_type": "execute_result"
    }
   ],
   "source": [
    "# Some of these are in the database already - remove from incoming table\n",
    "print(len(df_in))\n",
    "test = ((df_in.CodeID=='dot4') | (df_in.CodeID=='NA6'))\n",
    "print(test.sum())\n",
    "df_in2 = df_in[~test]\n",
    "len(df_in2)"
   ]
  },
  {
   "cell_type": "markdown",
   "id": "known-level",
   "metadata": {},
   "source": [
    "## Now insert the table"
   ]
  },
  {
   "cell_type": "code",
   "execution_count": 58,
   "id": "baking-israeli",
   "metadata": {},
   "outputs": [],
   "source": [
    "import py2pg.populate as pop"
   ]
  },
  {
   "cell_type": "code",
   "execution_count": 59,
   "id": "african-sampling",
   "metadata": {},
   "outputs": [
    {
     "name": "stdout",
     "output_type": "stream",
     "text": [
      "copy_from_file() done\n"
     ]
    }
   ],
   "source": [
    "#Use function to load ent_in\n",
    "pop.copy_from_file(conn, df_in2, 'lter_metabase.\"ListCodes\"', sep=',') # copy the dataframe to SQL\n",
    "# Close the database connection\n",
    "conn.close()"
   ]
  }
 ],
 "metadata": {
  "kernelspec": {
   "display_name": "Python 3",
   "language": "python",
   "name": "python3"
  },
  "language_info": {
   "codemirror_mode": {
    "name": "ipython",
    "version": 3
   },
   "file_extension": ".py",
   "mimetype": "text/x-python",
   "name": "python",
   "nbconvert_exporter": "python",
   "pygments_lexer": "ipython3",
   "version": "3.7.9"
  }
 },
 "nbformat": 4,
 "nbformat_minor": 5
}
